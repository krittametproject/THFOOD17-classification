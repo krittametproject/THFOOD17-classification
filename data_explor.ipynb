{
 "cells": [
  {
   "cell_type": "code",
   "execution_count": null,
   "id": "6ea24def",
   "metadata": {},
   "outputs": [],
   "source": [
    "import numpy as np\n",
    "import pandas as pd\n",
    "import matplotlib.pyplot as plt\n",
    "import os\n",
    "import shutil\n",
    "train_path = 'dataset/THFOOD50-v1/train'\n",
    "test_path = 'dataset/THFOOD50-v1/val'"
   ]
  },
  {
   "cell_type": "code",
   "execution_count": null,
   "id": "f914d7c9",
   "metadata": {},
   "outputs": [],
   "source": [
    "def data_explor():\n",
    "    count_data = {i:len(os.listdir(train_path+\"/\"+i)) for i in os.listdir(train_path)} \n",
    "    x = list(count_data.keys())\n",
    "    y = list(count_data.values())\n",
    "    plt.bar(x, y)\n",
    "    plt.xticks(rotation=90)\n",
    "    plt.show()\n",
    "\n",
    "    #after explor\n",
    "    count_data = {i:len(os.listdir(train_path+\"/\"+i)) for i in os.listdir(train_path) if len(os.listdir(train_path+\"/\"+i)) <= 200}\n",
    "    name = list(count_data.keys())\n",
    "    count = list(count_data.values())\n",
    "    plt.bar(name, count)\n",
    "    plt.xticks(rotation=90)\n",
    "    plt.show()\n",
    "    return name"
   ]
  },
  {
   "cell_type": "code",
   "execution_count": null,
   "id": "d4f463fd",
   "metadata": {},
   "outputs": [],
   "source": [
    "def data_prep(selected_data):\n",
    "    #delete folder\n",
    "    for i in os.listdir(test_path):\n",
    "        if (i not in selected_data) and (i != '.DS_Store'):\n",
    "            shutil.rmtree(test_path+'/'+i)\n",
    "    for i in os.listdir(train_path):\n",
    "        if (i not in selected_data) and (i != '.DS_Store'):\n",
    "            shutil.rmtree(train_path+'/'+i)"
   ]
  },
  {
   "cell_type": "code",
   "execution_count": null,
   "id": "7acaae94",
   "metadata": {},
   "outputs": [],
   "source": [
    "if __name__ == '__main__':\n",
    "    selected_data = data_explor()\n",
    "    data_prep(selected_data)\n"
   ]
  }
 ],
 "metadata": {
  "environment": {
   "name": "pytorch-gpu.1-8.m71",
   "type": "gcloud",
   "uri": "gcr.io/deeplearning-platform-release/pytorch-gpu.1-8:m71"
  },
  "kernelspec": {
   "display_name": "Python 3",
   "language": "python",
   "name": "python3"
  },
  "language_info": {
   "codemirror_mode": {
    "name": "ipython",
    "version": 3
   },
   "file_extension": ".py",
   "mimetype": "text/x-python",
   "name": "python",
   "nbconvert_exporter": "python",
   "pygments_lexer": "ipython3",
   "version": "3.7.10"
  }
 },
 "nbformat": 4,
 "nbformat_minor": 5
}
